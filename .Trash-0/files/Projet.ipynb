{
 "cells": [
  {
   "cell_type": "code",
   "execution_count": 1,
   "id": "regulated-checklist",
   "metadata": {},
   "outputs": [],
   "source": [
    "import pandas as pd\n",
    "import pymongo"
   ]
  },
  {
   "cell_type": "code",
   "execution_count": null,
   "id": "surrounded-growing",
   "metadata": {},
   "outputs": [],
   "source": [
    "from pymongo import MongoClient\n",
    "\n",
    "client = MongoClient(\"mongo\")\n",
    "\n",
    "database = client.exercices\n",
    "\n",
    "collection = database['kickstarter']"
   ]
  },
  {
   "cell_type": "code",
   "execution_count": null,
   "id": "appreciated-reading",
   "metadata": {},
   "outputs": [],
   "source": [
    "df_ks = pd.read_csv(\"./data/ks-projects-201801-sample.csv\")\n",
    "df_ks.head()"
   ]
  },
  {
   "cell_type": "code",
   "execution_count": null,
   "id": "suitable-pittsburgh",
   "metadata": {},
   "outputs": [],
   "source": [
    "Calculer le nombre d’étudiant \n",
    "\n",
    "cur = collection.aggregate([{\"$group\":{\"_id\":\"$effectif\", \"totalEffectif\" : {\"$sum\":1}}}]) list(cur)\n",
    "\n",
    "calculer une moyenne de fille et de garcon \n",
    "cur = collection.aggregate([{\"$group\":{\"_id\":\"$sexe_de_l_etudiant\", \"sexeByCategory\" : {\"$avg\":1}}}]) \n",
    "list(cur)\n",
    "\n",
    "compter le nombre de ligne \n",
    "cur = collection.find([{“uucr_id”}]).count()\n",
    "print(cur)\n",
    "\n",
    "Afficher le titre des établissement pour la rentrée 2017-2018\n",
    "cur = collection.find([{“rentree_universitaire” : “2017-18”}]).\n",
    "print(cur)\n"
   ]
  },
  {
   "cell_type": "code",
   "execution_count": null,
   "id": "concrete-interview",
   "metadata": {},
   "outputs": [],
   "source": []
  }
 ],
 "metadata": {
  "kernelspec": {
   "display_name": "Python 3",
   "language": "python",
   "name": "python3"
  },
  "language_info": {
   "codemirror_mode": {
    "name": "ipython",
    "version": 3
   },
   "file_extension": ".py",
   "mimetype": "text/x-python",
   "name": "python",
   "nbconvert_exporter": "python",
   "pygments_lexer": "ipython3",
   "version": "3.6.12"
  }
 },
 "nbformat": 4,
 "nbformat_minor": 5
}
